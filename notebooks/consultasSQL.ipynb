{
 "cells": [
  {
   "cell_type": "code",
   "execution_count": 1,
   "id": "982a5469-2137-46c2-b4b3-be0437744896",
   "metadata": {},
   "outputs": [],
   "source": [
    "import sqlite3, pandas as pd"
   ]
  },
  {
   "cell_type": "code",
   "execution_count": 2,
   "id": "fbdc9180-1387-4364-b310-27b30c8d3a01",
   "metadata": {},
   "outputs": [],
   "source": [
    "# Abrindo a conexão\n",
    "conn = sqlite3.connect(\"../data/ecommerce.db\")"
   ]
  },
  {
   "cell_type": "code",
   "execution_count": 77,
   "id": "1383c3b9-4128-41e9-a3a5-a8291a48f7cb",
   "metadata": {},
   "outputs": [
    {
     "name": "stdout",
     "output_type": "stream",
     "text": [
      "                              order_id  tempo_entrega(dias)  \\\n",
      "0     6ea2f835b4556291ffdc53fa0b3b95e8                   33   \n",
      "1     6a0a8bfbbe700284feb0845d95e0867f                   36   \n",
      "2     9d531c565e28c3e0d756192f84d8731f                   56   \n",
      "3     8fc207e94fa91a7649c5a5dab690272a                   54   \n",
      "4     f31535f21d145b2345e2bf7f09d62322                   81   \n",
      "...                                ...                  ...   \n",
      "4305  25f6cb0e242a4c0bacc239397614422e                   32   \n",
      "4306  76a948cd55bf22799753720d4545dd2d                   47   \n",
      "4307  4cf09d9e5ebbe0f91ddd7bf9aae891cd                   32   \n",
      "4308  38e9133ce29f6bbe35aed9c3863dce01                   39   \n",
      "4309  cfa78b997e329a5295b4ee6972c02979                   37   \n",
      "\n",
      "      valor_total_pedido  \n",
      "0                 356.12  \n",
      "1                 101.74  \n",
      "2                  40.09  \n",
      "3                 135.51  \n",
      "4                 100.00  \n",
      "...                  ...  \n",
      "4305               79.45  \n",
      "4306               48.14  \n",
      "4307              390.90  \n",
      "4308               48.75  \n",
      "4309               71.04  \n",
      "\n",
      "[4310 rows x 3 columns]\n"
     ]
    }
   ],
   "source": [
    "# Executando a consulta que mostra as as vendas que foram entregues com mais de 30 dias.\n",
    "query = 'SELECT order_id, \"tempo_entrega(dias)\", valor_total_pedido FROM orders WHERE \"tempo_entrega(dias)\" > 30'\n",
    "df30dias = pd.read_sql(query, conn)\n",
    "print(df30dias)\n"
   ]
  },
  {
   "cell_type": "code",
   "execution_count": 78,
   "id": "5171b21b-ec17-41be-b87f-6144685b93d2",
   "metadata": {},
   "outputs": [
    {
     "name": "stdout",
     "output_type": "stream",
     "text": [
      "  faturamento_total\n",
      "0       15419682.85\n"
     ]
    }
   ],
   "source": [
    "# faturamento da empresa?\n",
    "\n",
    "query = \"SELECT printf('%.2f',SUM(valor_total_pedido)) as faturamento_total FROM orders\"\n",
    "dffaturamento = pd.read_sql(query, conn)\n",
    "print(dffaturamento)\n"
   ]
  },
  {
   "cell_type": "code",
   "execution_count": 91,
   "id": "77df2856-26a2-41b1-968d-642e6b16cb9a",
   "metadata": {},
   "outputs": [
    {
     "name": "stdout",
     "output_type": "stream",
     "text": [
      "   MEDIA DO TEMPO DE ENTREGA\n",
      "0                       12.0\n"
     ]
    }
   ],
   "source": [
    "# media de entrega\n",
    "query = \"\"\"\n",
    "SELECT ROUND(AVG(\"tempo_entrega(dias)\")) AS \"MEDIA DO TEMPO DE ENTREGA\" FROM orders\n",
    "\"\"\"\n",
    "dfmediaentrega = pd.read_sql(query, conn)\n",
    "print(dfmediaentrega)"
   ]
  },
  {
   "cell_type": "code",
   "execution_count": 92,
   "id": "a23b7cf1-fe47-48fb-962c-f5935a62a1af",
   "metadata": {},
   "outputs": [
    {
     "name": "stdout",
     "output_type": "stream",
     "text": [
      "   Maior_Pedido\n",
      "0      13664.08\n"
     ]
    }
   ],
   "source": [
    "# valor maximo vendido\n",
    "query = \"SELECT MAX(valor_total_pedido) Maior_Pedido FROM orders\"\n",
    "dfmaxvalor = pd.read_sql(query, conn)\n",
    "print(dfmaxvalor)"
   ]
  },
  {
   "cell_type": "code",
   "execution_count": 101,
   "id": "9e6efab6-b443-4fac-8f2f-3a76838defb2",
   "metadata": {},
   "outputs": [
    {
     "name": "stdout",
     "output_type": "stream",
     "text": [
      "  FORMA DE PAGAMENTO  total_pedidos\n",
      "0        credit_card          74584\n",
      "1             boleto          19177\n",
      "2            voucher           5493\n",
      "3         debit_card           1485\n"
     ]
    }
   ],
   "source": [
    "# Qual é a forma de pagamento mais utilizada pelos clientes?\n",
    "query = \"SELECT payment_type AS 'FORMA DE PAGAMENTO' , count(order_id) as total_pedidos FROM orders GROUP BY payment_type ORDER BY count(order_id) DESC \"\n",
    "dfformapgto = pd.read_sql(query, conn)\n",
    "print(dfformapgto)"
   ]
  },
  {
   "cell_type": "code",
   "execution_count": 3,
   "id": "1a43a71a-d313-4f78-a3c0-54fe9c631fa7",
   "metadata": {},
   "outputs": [
    {
     "name": "stdout",
     "output_type": "stream",
     "text": [
      "   pedidos_atrasados\n",
      "0               8125\n"
     ]
    }
   ],
   "source": [
    "# quantos pedidos foram entregues após a data estimada de entrega?\n",
    "\n",
    "query = '''SELECT COUNT(order_id) AS pedidos_atrasados\n",
    "FROM orders\n",
    "WHERE order_delivered_customer_date > order_estimated_delivery_date;\n",
    "'''\n",
    "dfpedidosatrasados = pd.read_sql(query, conn)\n",
    "print(dfpedidosatrasados)"
   ]
  },
  {
   "cell_type": "code",
   "execution_count": 6,
   "id": "cba8e8bc-03ec-497a-bd92-9ee4b09f1206",
   "metadata": {},
   "outputs": [],
   "source": [
    "# fechando a conexão \n",
    "conn.close()"
   ]
  },
  {
   "cell_type": "code",
   "execution_count": null,
   "id": "5a2d162e-7c41-4d3e-bcbf-6f5a4a01bf4c",
   "metadata": {},
   "outputs": [],
   "source": []
  }
 ],
 "metadata": {
  "kernelspec": {
   "display_name": "Python 3 (ipykernel)",
   "language": "python",
   "name": "python3"
  },
  "language_info": {
   "codemirror_mode": {
    "name": "ipython",
    "version": 3
   },
   "file_extension": ".py",
   "mimetype": "text/x-python",
   "name": "python",
   "nbconvert_exporter": "python",
   "pygments_lexer": "ipython3",
   "version": "3.13.0"
  }
 },
 "nbformat": 4,
 "nbformat_minor": 5
}
